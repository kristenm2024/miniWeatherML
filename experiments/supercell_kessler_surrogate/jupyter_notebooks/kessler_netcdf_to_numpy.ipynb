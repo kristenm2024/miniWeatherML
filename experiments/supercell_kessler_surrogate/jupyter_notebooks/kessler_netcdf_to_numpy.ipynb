{
  "nbformat": 4,
  "nbformat_minor": 0,
  "metadata": {
    "colab": {
      "name": "kessler_netcdf_to_numpy.ipynb",
      "provenance": []
    },
    "kernelspec": {
      "name": "python3",
      "display_name": "Python 3"
    },
    "language_info": {
      "name": "python"
    }
  },
  "cells": [
    {
      "cell_type": "code",
      "execution_count": 1,
      "metadata": {
        "colab": {
          "base_uri": "https://localhost:8080/"
        },
        "id": "NMq3yYEeoIgv",
        "outputId": "61c9b09c-5c25-4d25-e7a6-fef80d2ab571"
      },
      "outputs": [
        {
          "output_type": "stream",
          "name": "stdout",
          "text": [
            "Downloading data from:\n",
            " https://www.dropbox.com/s/nonpheml3309q7d/supercell_kessler_data.nc?dl=0...\n",
            "--2022-06-09 22:41:59--  https://www.dropbox.com/s/nonpheml3309q7d/supercell_kessler_data.nc?dl=0\n",
            "Resolving www.dropbox.com (www.dropbox.com)... 162.125.6.18, 2620:100:6022:18::a27d:4212\n",
            "Connecting to www.dropbox.com (www.dropbox.com)|162.125.6.18|:443... connected.\n",
            "HTTP request sent, awaiting response... 301 Moved Permanently\n",
            "Location: /s/raw/nonpheml3309q7d/supercell_kessler_data.nc [following]\n",
            "--2022-06-09 22:41:59--  https://www.dropbox.com/s/raw/nonpheml3309q7d/supercell_kessler_data.nc\n",
            "Reusing existing connection to www.dropbox.com:443.\n",
            "HTTP request sent, awaiting response... 302 Found\n",
            "Location: https://ucb979522013c78db74274592a8c.dl.dropboxusercontent.com/cd/0/inline/Bm4QqmKBjj9wwd8VKsCojZAGacMlLDJkdC2D73mk7n6S_psboiv-K3UQTEm6FDwI8R1jiVBZnFa4JfufmmlpmVWW-dmy9IYXCpWhOU9eRU0DVJCQbnr7dxmEmwBeUFTn3lCHK3I29IfFcgOTOKbPpX7cb4jH4iefJsLyrNzgNP9cEw/file# [following]\n",
            "--2022-06-09 22:42:00--  https://ucb979522013c78db74274592a8c.dl.dropboxusercontent.com/cd/0/inline/Bm4QqmKBjj9wwd8VKsCojZAGacMlLDJkdC2D73mk7n6S_psboiv-K3UQTEm6FDwI8R1jiVBZnFa4JfufmmlpmVWW-dmy9IYXCpWhOU9eRU0DVJCQbnr7dxmEmwBeUFTn3lCHK3I29IfFcgOTOKbPpX7cb4jH4iefJsLyrNzgNP9cEw/file\n",
            "Resolving ucb979522013c78db74274592a8c.dl.dropboxusercontent.com (ucb979522013c78db74274592a8c.dl.dropboxusercontent.com)... 162.125.6.15, 2620:100:601c:15::a27d:60f\n",
            "Connecting to ucb979522013c78db74274592a8c.dl.dropboxusercontent.com (ucb979522013c78db74274592a8c.dl.dropboxusercontent.com)|162.125.6.15|:443... connected.\n",
            "HTTP request sent, awaiting response... 302 Found\n",
            "Location: /cd/0/inline2/Bm5RJd2eEMwhZ8KlNnUC5OcWQIoPf8-dNKsFHH6ebLYRs_OdH0epxmuwlM8StzVXwUTrG8RBtp6IZwx9asfBQJJAJSkbR6nIiR0UILkzh-cz0Th-cVrxLER18ckO3XhbqdmxWXR4YQE35YPxpoMdgj6dKcCk69TsAOoLMo1Cv-_gx-8OQGYRlcjpsPXhdDLHlj0J41s4gLEUVU9Wvw6LeJLg3zBJfOUn8Z8HT9RbzUCzeQtfT0HWZAVt5EYokg6EfHJVqya9QSgIZGqHmoj6lxJUG2a-BMYmkQQtSJWEWneQWIkHfIZ3VAzxwGyVFRfjn-HM_tbZWTM2rjn3CWXsjtHz62FsRrG13dnAhbPRnXV319Sz_Q0PAjyn573wtsCM-Bd-3MV1jB_D38aroKdFla5fYXETNQR-NwLtAlOAv07nWg/file [following]\n",
            "--2022-06-09 22:42:00--  https://ucb979522013c78db74274592a8c.dl.dropboxusercontent.com/cd/0/inline2/Bm5RJd2eEMwhZ8KlNnUC5OcWQIoPf8-dNKsFHH6ebLYRs_OdH0epxmuwlM8StzVXwUTrG8RBtp6IZwx9asfBQJJAJSkbR6nIiR0UILkzh-cz0Th-cVrxLER18ckO3XhbqdmxWXR4YQE35YPxpoMdgj6dKcCk69TsAOoLMo1Cv-_gx-8OQGYRlcjpsPXhdDLHlj0J41s4gLEUVU9Wvw6LeJLg3zBJfOUn8Z8HT9RbzUCzeQtfT0HWZAVt5EYokg6EfHJVqya9QSgIZGqHmoj6lxJUG2a-BMYmkQQtSJWEWneQWIkHfIZ3VAzxwGyVFRfjn-HM_tbZWTM2rjn3CWXsjtHz62FsRrG13dnAhbPRnXV319Sz_Q0PAjyn573wtsCM-Bd-3MV1jB_D38aroKdFla5fYXETNQR-NwLtAlOAv07nWg/file\n",
            "Reusing existing connection to ucb979522013c78db74274592a8c.dl.dropboxusercontent.com:443.\n",
            "HTTP request sent, awaiting response... 200 OK\n",
            "Length: 1599928996 (1.5G) [application/x-netcdf]\n",
            "Saving to: ‘supercell_kessler_data.nc’\n",
            "\n",
            "supercell_kessler_d 100%[===================>]   1.49G   115MB/s    in 14s     \n",
            "\n",
            "2022-06-09 22:42:14 (111 MB/s) - ‘supercell_kessler_data.nc’ saved [1599928996/1599928996]\n",
            "\n",
            "Reading dataset...\n",
            "  * Finished reading chunk 1 of 20\n",
            "  * Finished reading chunk 2 of 20\n",
            "  * Finished reading chunk 3 of 20\n",
            "  * Finished reading chunk 4 of 20\n",
            "  * Finished reading chunk 5 of 20\n",
            "  * Finished reading chunk 6 of 20\n",
            "  * Finished reading chunk 7 of 20\n",
            "  * Finished reading chunk 8 of 20\n",
            "  * Finished reading chunk 9 of 20\n",
            "  * Finished reading chunk 10 of 20\n",
            "  * Finished reading chunk 11 of 20\n",
            "  * Finished reading chunk 12 of 20\n",
            "  * Finished reading chunk 13 of 20\n",
            "  * Finished reading chunk 14 of 20\n",
            "  * Finished reading chunk 15 of 20\n",
            "  * Finished reading chunk 16 of 20\n",
            "  * Finished reading chunk 17 of 20\n",
            "  * Finished reading chunk 18 of 20\n",
            "  * Finished reading chunk 19 of 20\n",
            "  * Finished reading chunk 20 of 20\n",
            "Shuffling dataset...\n",
            "Saving data to file...\n"
          ]
        }
      ],
      "source": [
        "from netCDF4 import Dataset\n",
        "import numpy as np\n",
        "import os\n",
        "\n",
        "path = f'supercell_kessler_data.nc'\n",
        "data_link = \"https://www.dropbox.com/s/nonpheml3309q7d/supercell_kessler_data.nc?dl=0\"\n",
        "\n",
        "# Download the data if necessary\n",
        "if ( not os.path.isfile(path) ):\n",
        "    print(f\"Downloading data from:\\n {data_link}...\")\n",
        "    !wget {data_link} -O {path}\n",
        "\n",
        "print('Reading dataset...')\n",
        "\n",
        "# Open NetCDF4 file, allocate input and output data arrays\n",
        "nc = Dataset(path,'r')\n",
        "[num_samples, num_vars_in, stencil_size] = nc.variables['inputs'].shape\n",
        "input_from_file  = np.ndarray(shape=nc.variables['inputs' ].shape,dtype=np.single)\n",
        "output_from_file = np.ndarray(shape=nc.variables['outputs'].shape,dtype=np.single)\n",
        "\n",
        "# We need to chunk the reading to avoid overflowing available memory\n",
        "num_chunks = 20\n",
        "chunk_size = int(np.ceil(num_samples / num_chunks))\n",
        "# Loop over chunks and load data\n",
        "for ichunk in range(num_chunks) :\n",
        "  ibeg = int( ichunk   *chunk_size)\n",
        "  iend = int((ichunk+1)*chunk_size)\n",
        "  if (ichunk == num_chunks-1) :  # Ensure we don't go past the last index\n",
        "    iend = num_samples\n",
        "  input_from_file [ibeg:iend,:,:] = nc.variables['inputs' ][ibeg:iend,:,:]\n",
        "  output_from_file[ibeg:iend,:]   = nc.variables['outputs'][ibeg:iend,:]\n",
        "  print(f'  * Finished reading chunk {ichunk+1} of {num_chunks}')\n",
        "\n",
        "nc.close()\n",
        "\n",
        "print('Shuffling dataset...')\n",
        "\n",
        "# Randomly shuffle the samples before saving to file\n",
        "permuted_indices = np.random.permutation(np.arange(0, num_samples))\n",
        "input_from_file  = input_from_file [permuted_indices[:],:,:]\n",
        "output_from_file = output_from_file[permuted_indices[:],:]\n",
        "\n",
        "print('Saving data to file...')\n",
        "\n",
        "np.savez('supercell_kessler_data.npz',\n",
        "         input_from_file=input_from_file, output_from_file=output_from_file)\n"
      ]
    },
    {
      "cell_type": "code",
      "source": [
        ""
      ],
      "metadata": {
        "id": "1AF1YDvwvt7w"
      },
      "execution_count": null,
      "outputs": []
    }
  ]
}