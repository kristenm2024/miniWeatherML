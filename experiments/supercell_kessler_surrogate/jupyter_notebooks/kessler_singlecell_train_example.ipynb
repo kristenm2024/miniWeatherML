{
  "cells": [
    {
      "cell_type": "code",
      "execution_count": 1,
      "metadata": {
        "id": "nUlXKlvO2jsr"
      },
      "outputs": [],
      "source": [
        "import numpy as np\n",
        "import os\n",
        "os.environ['TF_CPP_MIN_LOG_LEVEL'] = '1'\n",
        "import tensorflow\n",
        "import tensorflow.keras\n",
        "from tensorflow.keras.models import Sequential\n",
        "from tensorflow.keras.layers import Dense, Activation, LeakyReLU\n",
        "from tensorflow.keras.optimizers import Nadam, SGD\n",
        "import matplotlib.pyplot as plt\n",
        "tensorflow.compat.v1.disable_eager_execution()"
      ]
    },
    {
      "cell_type": "markdown",
      "source": [
        "# Read in data, scale, and split\n",
        "The input and output training data is pre-shuffled.\n",
        "* Read it in\n",
        "* Generate min-max scaling numbers for each variable for input and output separately\n",
        "* Scale inputs and outputs to $x \\in [0,1]$\n",
        "* Split it into training and testing datasets"
      ],
      "metadata": {
        "id": "izUMD7kMGOZl"
      }
    },
    {
      "cell_type": "code",
      "execution_count": 2,
      "metadata": {
        "colab": {
          "base_uri": "https://localhost:8080/"
        },
        "id": "-3HoUhuE2f0Z",
        "outputId": "534d2295-47d2-49e4-ac84-687c0d06a499"
      },
      "outputs": [
        {
          "output_type": "stream",
          "name": "stdout",
          "text": [
            "Getting shapes\n",
            "Input shape = (9118906, 5)\n",
            "Output shape = (9118906, 4)\n",
            "Total number of data points = 9118906\n",
            "Scaling the input and output data and saving the scaling parameters\n",
            "Splitting the dataset into training and testing portions\n"
          ]
        }
      ],
      "source": [
        "path = f'supercell_kessler_data.npz'\n",
        "data_link = \"https://www.dropbox.com/s/6rh5at6lic377ax/supercell_kessler_data.npz?dl=0\"\n",
        "\n",
        "# Download the data if necessary\n",
        "if ( not os.path.isfile(path) ):\n",
        "    print(f\"Downloading data from:\\n {data_link}...\")\n",
        "    !wget {data_link} -O {path}\n",
        "\n",
        "# Read pre-shuffled inputs and outputs\n",
        "npzfile = np.load(path)\n",
        "input_from_file  = npzfile['input_from_file']\n",
        "output_from_file = npzfile['output_from_file']\n",
        "\n",
        "# Total number of sampes in the file\n",
        "total_samples = input_from_file.shape[0]\n",
        "\n",
        "# Number of samples I want to use for training in this notebook\n",
        "num_samples = total_samples\n",
        "\n",
        "#Get dimension sizes\n",
        "num_vars_in  = input_from_file .shape[1]\n",
        "num_vars_out = output_from_file.shape[1]\n",
        "num_stencil  = input_from_file .shape[2]\n",
        "\n",
        "# This is a single-cell (non-stencil) Neural Network (NN) modeling approach\n",
        "# The zeroth stencil index is the cell being predicted\n",
        "# Load inputs and outputs from file\n",
        "input  = np.copy(input_from_file [:num_samples,:,0])\n",
        "output = np.copy(output_from_file[:num_samples,:  ])\n",
        "\n",
        "# Get dimensions sizes\n",
        "print('Getting shapes')\n",
        "print(f'Input shape = {input.shape}')\n",
        "print(f'Output shape = {output.shape}')\n",
        "print(f'Total number of data points = {num_samples}')\n",
        "\n",
        "# Split the dataset into testing and training portions\n",
        "test_split = 0.2   # 20% of the data will never be trained on (for testing)\n",
        "num_train_samples = int((1-test_split)*num_samples)\n",
        "num_test_samples  = num_samples-num_train_samples\n",
        "\n",
        "print('Scaling the input and output data and saving the scaling parameters')\n",
        "\n",
        "sclrArrayIn  = np.ndarray(shape=[num_vars_in ,2],dtype=np.single)\n",
        "sclrArrayOut = np.ndarray(shape=[num_vars_out,2],dtype=np.single)\n",
        "\n",
        "for ivar in range(num_vars_in) :\n",
        "  sclrArrayIn [ivar,0] = np.amin(input [:num_train_samples,ivar])\n",
        "  sclrArrayIn [ivar,1] = np.amax(input [:num_train_samples,ivar])\n",
        "for ivar in range(num_vars_out) :\n",
        "  sclrArrayOut[ivar,0] = np.amin(output[:num_train_samples,ivar])\n",
        "  sclrArrayOut[ivar,1] = np.amax(output[:num_train_samples,ivar])\n",
        "\n",
        "np.savetxt('supercell_kessler_stencil_input_scaling.txt' , sclrArrayIn , fmt=\"%s\")\n",
        "np.savetxt('supercell_kessler_stencil_output_scaling.txt', sclrArrayOut, fmt=\"%s\")\n",
        "\n",
        "for ivar in range(num_vars_in) :\n",
        "  input [:,ivar] = (input [:,ivar] - sclrArrayIn [ivar,0]) / (sclrArrayIn [ivar,1] - sclrArrayIn [ivar,0])\n",
        "for ivar in range(num_vars_out) :\n",
        "  output[:,ivar] = (output[:,ivar] - sclrArrayOut[ivar,0]) / (sclrArrayOut[ivar,1] - sclrArrayOut[ivar,0])\n",
        "\n",
        "print('Splitting the dataset into training and testing portions')\n",
        "\n",
        "# Training data\n",
        "input_train  = input [:num_train_samples, :]\n",
        "output_train = output[:num_train_samples, :]\n",
        "# Testing data\n",
        "input_test   = input [num_train_samples:, :]\n",
        "output_test  = output[num_train_samples:, :]\n"
      ]
    },
    {
      "cell_type": "markdown",
      "source": [
        "# Create and train Neural Network"
      ],
      "metadata": {
        "id": "5bPrvSfPG_34"
      }
    },
    {
      "cell_type": "code",
      "execution_count": 11,
      "metadata": {
        "colab": {
          "base_uri": "https://localhost:8080/"
        },
        "id": "blPgoWdfDzhr",
        "outputId": "dcac17b5-cf2e-4dc5-a5c8-598c1f263a5e"
      },
      "outputs": [
        {
          "output_type": "stream",
          "name": "stdout",
          "text": [
            "Model: \"sequential_3\"\n",
            "_________________________________________________________________\n",
            " Layer (type)                Output Shape              Param #   \n",
            "=================================================================\n",
            " dense_6 (Dense)             (None, 10)                60        \n",
            "                                                                 \n",
            " leaky_re_lu_3 (LeakyReLU)   (None, 10)                0         \n",
            "                                                                 \n",
            " dense_7 (Dense)             (None, 4)                 44        \n",
            "                                                                 \n",
            "=================================================================\n",
            "Total params: 104\n",
            "Trainable params: 104\n",
            "Non-trainable params: 0\n",
            "_________________________________________________________________\n",
            "None\n",
            "Train on 5836099 samples, validate on 1459025 samples\n",
            "Epoch 1/10\n",
            "5818368/5836099 [============================>.] - ETA: 0s - loss: 0.0019 - mean_absolute_error: 0.0118"
          ]
        },
        {
          "output_type": "stream",
          "name": "stderr",
          "text": [
            "/usr/local/lib/python3.7/dist-packages/keras/engine/training_v1.py:2057: UserWarning: `Model.state_updates` will be removed in a future version. This property should not be used in TensorFlow 2.0, as `updates` are applied automatically.\n",
            "  updates = self.state_updates\n"
          ]
        },
        {
          "output_type": "stream",
          "name": "stdout",
          "text": [
            "\b\b\b\b\b\b\b\b\b\b\b\b\b\b\b\b\b\b\b\b\b\b\b\b\b\b\b\b\b\b\b\b\b\b\b\b\b\b\b\b\b\b\b\b\b\b\b\b\b\b\b\b\b\b\b\b\b\b\b\b\b\b\b\b\b\b\b\b\b\b\b\b\b\b\b\b\b\b\b\b\b\b\b\b\b\b\b\b\b\b\b\b\b\b\b\b\b\b\b\b\b\b\b\r5836099/5836099 [==============================] - 11s 2us/sample - loss: 0.0019 - mean_absolute_error: 0.0118 - val_loss: 1.0106e-06 - val_mean_absolute_error: 6.8069e-04\n",
            "Epoch 2/10\n",
            "5836099/5836099 [==============================] - 11s 2us/sample - loss: 5.1380e-07 - mean_absolute_error: 4.7019e-04 - val_loss: 4.0657e-08 - val_mean_absolute_error: 9.7591e-05\n",
            "Epoch 3/10\n",
            "5836099/5836099 [==============================] - 11s 2us/sample - loss: 2.3539e-07 - mean_absolute_error: 3.3241e-04 - val_loss: 1.0705e-07 - val_mean_absolute_error: 2.5120e-04\n",
            "Epoch 4/10\n",
            "5836099/5836099 [==============================] - 11s 2us/sample - loss: 1.8381e-07 - mean_absolute_error: 2.9256e-04 - val_loss: 3.0436e-07 - val_mean_absolute_error: 4.2042e-04\n",
            "Epoch 5/10\n",
            "5836099/5836099 [==============================] - 11s 2us/sample - loss: 1.6546e-07 - mean_absolute_error: 2.7562e-04 - val_loss: 1.2840e-06 - val_mean_absolute_error: 9.2028e-04\n",
            "Epoch 6/10\n",
            "5836099/5836099 [==============================] - 11s 2us/sample - loss: 1.5843e-07 - mean_absolute_error: 2.7084e-04 - val_loss: 2.0517e-07 - val_mean_absolute_error: 3.5341e-04\n",
            "Epoch 7/10\n",
            "5836099/5836099 [==============================] - 11s 2us/sample - loss: 1.5560e-07 - mean_absolute_error: 2.6976e-04 - val_loss: 1.3499e-07 - val_mean_absolute_error: 2.7846e-04\n",
            "Epoch 8/10\n",
            "5836099/5836099 [==============================] - 11s 2us/sample - loss: 1.5251e-07 - mean_absolute_error: 2.5325e-04 - val_loss: 1.0445e-07 - val_mean_absolute_error: 2.2746e-04\n",
            "Epoch 9/10\n",
            "5836099/5836099 [==============================] - 11s 2us/sample - loss: 1.5266e-07 - mean_absolute_error: 2.5586e-04 - val_loss: 2.2396e-08 - val_mean_absolute_error: 7.8561e-05\n",
            "Epoch 10/10\n",
            "5836099/5836099 [==============================] - 11s 2us/sample - loss: 1.5150e-07 - mean_absolute_error: 2.7237e-04 - val_loss: 6.1684e-07 - val_mean_absolute_error: 6.2977e-04\n"
          ]
        }
      ],
      "source": [
        "# Create the Keras Neural Network\n",
        "model = Sequential()\n",
        "model.add( Dense(10,input_dim=num_vars_in,kernel_initializer=\"RandomUniform\") )\n",
        "model.add( LeakyReLU(alpha=0.1) )\n",
        "model.add( Dense(num_vars_out,kernel_initializer=\"RandomUniform\") )\n",
        "model.compile(loss='mse', optimizer=Nadam(), metrics=['mean_absolute_error'])\n",
        "print(model.summary())\n",
        "\n",
        "history = model.fit(input_train, output_train, epochs=10, batch_size=1024, validation_split=0.2, verbose=1)"
      ]
    },
    {
      "cell_type": "markdown",
      "source": [
        "# Inference traine NN on test data"
      ],
      "metadata": {
        "id": "u5157DECHRei"
      }
    },
    {
      "cell_type": "code",
      "execution_count": 4,
      "metadata": {
        "id": "LzaOEkMLGVA6",
        "colab": {
          "base_uri": "https://localhost:8080/"
        },
        "outputId": "7e9d6f07-1f81-413d-8c29-3bef06b6c03e"
      },
      "outputs": [
        {
          "output_type": "stream",
          "name": "stderr",
          "text": [
            "/usr/local/lib/python3.7/dist-packages/keras/engine/training_v1.py:2079: UserWarning: `Model.state_updates` will be removed in a future version. This property should not be used in TensorFlow 2.0, as `updates` are applied automatically.\n",
            "  updates=self.state_updates,\n"
          ]
        }
      ],
      "source": [
        "predict_test = model.predict( input_test )"
      ]
    },
    {
      "cell_type": "markdown",
      "source": [
        "# Compare test predictions to test output"
      ],
      "metadata": {
        "id": "jQTvvxJUHXUv"
      }
    },
    {
      "cell_type": "code",
      "execution_count": 5,
      "metadata": {
        "colab": {
          "base_uri": "https://localhost:8080/",
          "height": 404
        },
        "id": "CbSAX3V9HR2a",
        "outputId": "daf5b7e0-ed84-4dd6-9235-38947809b0d4"
      },
      "outputs": [
        {
          "output_type": "display_data",
          "data": {
            "text/plain": [
              "<Figure size 1080x432 with 4 Axes>"
            ],
            "image/png": "[encoded data removed]"
          },
          "metadata": {}
        }
      ],
      "source": [
        "titlestr = np.array(['temperature','water vapor','cloud liquid','precipitation'])\n",
        "\n",
        "fig, axs = plt.subplots(2,2,figsize=(15,6),sharex=True,facecolor=\"1\")\n",
        "axs = axs.ravel()\n",
        "for i in range(4):\n",
        "    axs[i].scatter(output_test[:,i],predict_test[:,i],s=20)\n",
        "    axs[i].plot(np.linspace(0,1.2),np.linspace(0,1.2),'--',color='k')\n",
        "    axs[i].set_title(r''+titlestr[i])\n",
        "axs[2].set_xlabel(r'True'); axs[3].set_xlabel(r'True');\n",
        "axs[0].set_ylabel(r'Predicted'); axs[2].set_ylabel(r'Predicted');"
      ]
    },
    {
      "cell_type": "code",
      "execution_count": 6,
      "metadata": {
        "colab": {
          "base_uri": "https://localhost:8080/"
        },
        "id": "BZm7tpy6TRw0",
        "outputId": "7185a04c-21d7-48f6-da8d-68d885d133ae"
      },
      "outputs": [
        {
          "output_type": "stream",
          "name": "stdout",
          "text": [
            "Maximum relative test errors:  [0.00755035 0.00543387 0.00566697 0.00428575]\n",
            "Mean relative test errors:     [6.5660111e-05 2.3050897e-03 1.3457319e-02 3.2070293e-03]\n",
            "Mean relative test bias:       [ 4.8737653e-05  2.3015041e-03  1.2084821e-02 -2.0276136e-03]\n"
          ]
        }
      ],
      "source": [
        "print( 'Maximum relative test errors: ' , np.amax(np.abs(output_test-predict_test),axis=0) / np.amax(np.abs(output_test),axis=0) )\n",
        "print( 'Mean relative test errors:    ' , np.mean(np.abs(output_test-predict_test),axis=0) / np.mean(np.abs(output_test),axis=0) )\n",
        "print( 'Mean relative test bias:      ' , np.mean(output_test-predict_test,axis=0) / np.mean(np.abs(output_test),axis=0) )"
      ]
    },
    {
      "cell_type": "markdown",
      "source": [
        "# Save the model weights"
      ],
      "metadata": {
        "id": "HCM-ER9MHc6C"
      }
    },
    {
      "cell_type": "code",
      "execution_count": 7,
      "metadata": {
        "colab": {
          "base_uri": "https://localhost:8080/"
        },
        "id": "EAf7QyuRQ0_d",
        "outputId": "fd6faa1a-c025-463a-9578-d8f7afafb288"
      },
      "outputs": [
        {
          "output_type": "stream",
          "name": "stdout",
          "text": [
            "Saved model to disk\n"
          ]
        }
      ],
      "source": [
        "# For inference: Serialize model to JSON\n",
        "model_json = model.to_json()\n",
        "with open('supercell_kessler_singlecell_model_weights.json', 'w') as json_file:\n",
        "    json_file.write(model_json)\n",
        "# serialize weights to HDF5\n",
        "model.save_weights('supercell_kessler_singlecell_model_weights.h5')\n",
        "print('Saved model to disk')"
      ]
    },
    {
      "cell_type": "markdown",
      "source": [
        "# Create integer array for active samples: binary 0 or 1"
      ],
      "metadata": {
        "id": "hgBaUBPeHfCP"
      }
    },
    {
      "cell_type": "code",
      "source": [
        "tol = 0.000000\n",
        "active = np.where((np.abs(output_from_file[:,0] - input_from_file[:,0,0]) > 0) | \\\n",
        "                  (np.abs(output_from_file[:,1] - input_from_file[:,2,0]) > 0) | \\\n",
        "                  (np.abs(output_from_file[:,2] - input_from_file[:,3,0]) > 0) | \\\n",
        "                  (np.abs(output_from_file[:,3] - input_from_file[:,4,0]) > 0) , True , False )\n",
        "active_train = np.copy(active[:num_train_samples])\n",
        "active_test  = np.copy(active[num_train_samples:])\n",
        "print( \"Percentage of total samples that are active: \" , np.sum(active) / num_samples*100 , \"%\" )\n",
        "print( \"Percentage of training samples that are active: \" , np.sum(active_train) / num_train_samples*100 , \"%\" )\n",
        "print( \"Percentage of test samples that are active: \" , np.sum(active_test) / num_test_samples*100 , \"%\" )"
      ],
      "metadata": {
        "colab": {
          "base_uri": "https://localhost:8080/"
        },
        "id": "owzIAax31jH8",
        "outputId": "b47a4c87-587e-4ed8-b3e5-43d8cfe3337a"
      },
      "execution_count": 8,
      "outputs": [
        {
          "output_type": "stream",
          "name": "stdout",
          "text": [
            "Percentage of total samples that are active:  51.812487155805755 %\n",
            "Percentage of training samples that are active:  51.8007507480339 %\n",
            "Percentage of test samples that are active:  51.85943276115238 %\n"
          ]
        }
      ]
    },
    {
      "cell_type": "markdown",
      "source": [
        "# Train a binary classification Neural Network to determine if a cell is active"
      ],
      "metadata": {
        "id": "UTSUgYlTSThW"
      }
    },
    {
      "cell_type": "code",
      "source": [
        "# Create the Keras Neural Network\n",
        "model = Sequential()\n",
        "model.add( Dense(10,input_dim=num_vars_in,kernel_initializer=\"RandomUniform\") )\n",
        "model.add( LeakyReLU(alpha=0.1) )\n",
        "model.add( Dense(1,kernel_initializer=\"RandomUniform\",activation=\"sigmoid\") )\n",
        "model.compile(optimizer=Nadam(), loss='binary_crossentropy',metrics =['accuracy'])\n",
        "print(model.summary())\n",
        "\n",
        "history = model.fit(input_train, active_train, epochs=10, batch_size=1024, validation_split=0.2, verbose=1)\n"
      ],
      "metadata": {
        "colab": {
          "base_uri": "https://localhost:8080/"
        },
        "id": "0dSgxJKD4HGn",
        "outputId": "76475deb-1405-4959-c12c-20cfdd393fae"
      },
      "execution_count": 9,
      "outputs": [
        {
          "output_type": "stream",
          "name": "stdout",
          "text": [
            "Model: \"sequential_1\"\n",
            "_________________________________________________________________\n",
            " Layer (type)                Output Shape              Param #   \n",
            "=================================================================\n",
            " dense_2 (Dense)             (None, 10)                60        \n",
            "                                                                 \n",
            " leaky_re_lu_1 (LeakyReLU)   (None, 10)                0         \n",
            "                                                                 \n",
            " dense_3 (Dense)             (None, 1)                 11        \n",
            "                                                                 \n",
            "=================================================================\n",
            "Total params: 71\n",
            "Trainable params: 71\n",
            "Non-trainable params: 0\n",
            "_________________________________________________________________\n",
            "None\n",
            "Train on 5836099 samples, validate on 1459025 samples\n",
            "Epoch 1/10\n",
            "5817344/5836099 [============================>.] - ETA: 0s - loss: 0.4412 - accuracy: 0.7657"
          ]
        },
        {
          "output_type": "stream",
          "name": "stderr",
          "text": [
            "/usr/local/lib/python3.7/dist-packages/keras/engine/training_v1.py:2057: UserWarning: `Model.state_updates` will be removed in a future version. This property should not be used in TensorFlow 2.0, as `updates` are applied automatically.\n",
            "  updates = self.state_updates\n"
          ]
        },
        {
          "output_type": "stream",
          "name": "stdout",
          "text": [
            "\b\b\b\b\b\b\b\b\b\b\b\b\b\b\b\b\b\b\b\b\b\b\b\b\b\b\b\b\b\b\b\b\b\b\b\b\b\b\b\b\b\b\b\b\b\b\b\b\b\b\b\b\b\b\b\b\b\b\b\b\b\b\b\b\b\b\b\b\b\b\b\b\b\b\b\b\b\b\b\b\b\b\b\b\b\b\b\b\b\b\b\b\r5836099/5836099 [==============================] - 11s 2us/sample - loss: 0.4410 - accuracy: 0.7657 - val_loss: 0.3813 - val_accuracy: 0.7913\n",
            "Epoch 2/10\n",
            "5836099/5836099 [==============================] - 11s 2us/sample - loss: 0.3657 - accuracy: 0.7985 - val_loss: 0.3531 - val_accuracy: 0.8056\n",
            "Epoch 3/10\n",
            "5836099/5836099 [==============================] - 11s 2us/sample - loss: 0.3462 - accuracy: 0.8094 - val_loss: 0.3389 - val_accuracy: 0.8136\n",
            "Epoch 4/10\n",
            "5836099/5836099 [==============================] - 11s 2us/sample - loss: 0.3331 - accuracy: 0.8191 - val_loss: 0.3262 - val_accuracy: 0.8286\n",
            "Epoch 5/10\n",
            "5836099/5836099 [==============================] - 11s 2us/sample - loss: 0.3219 - accuracy: 0.8317 - val_loss: 0.3168 - val_accuracy: 0.8393\n",
            "Epoch 6/10\n",
            "5836099/5836099 [==============================] - 11s 2us/sample - loss: 0.3136 - accuracy: 0.8448 - val_loss: 0.3093 - val_accuracy: 0.8522\n",
            "Epoch 7/10\n",
            "5836099/5836099 [==============================] - 11s 2us/sample - loss: 0.3070 - accuracy: 0.8574 - val_loss: 0.3036 - val_accuracy: 0.8589\n",
            "Epoch 8/10\n",
            "5836099/5836099 [==============================] - 11s 2us/sample - loss: 0.3019 - accuracy: 0.8597 - val_loss: 0.2993 - val_accuracy: 0.8628\n",
            "Epoch 9/10\n",
            "5836099/5836099 [==============================] - 11s 2us/sample - loss: 0.2978 - accuracy: 0.8610 - val_loss: 0.2955 - val_accuracy: 0.8637\n",
            "Epoch 10/10\n",
            "5836099/5836099 [==============================] - 11s 2us/sample - loss: 0.2945 - accuracy: 0.8622 - val_loss: 0.2923 - val_accuracy: 0.8648\n"
          ]
        }
      ]
    },
    {
      "cell_type": "code",
      "source": [
        ""
      ],
      "metadata": {
        "id": "MAKB8BEaOXM9"
      },
      "execution_count": 9,
      "outputs": []
    }
  ],
  "metadata": {
    "colab": {
      "name": "kessler_singlecell_train.ipynb",
      "provenance": []
    },
    "kernelspec": {
      "display_name": "Python 3",
      "name": "python3"
    },
    "language_info": {
      "name": "python"
    }
  },
  "nbformat": 4,
  "nbformat_minor": 0
}