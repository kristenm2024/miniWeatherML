{
 "cells": [
  {
   "cell_type": "markdown",
   "metadata": {},
   "source": [
    "# Introduction\n",
    "\n",
    "**ML model for emulating microphysics in a supercell (climate) test case using Keras**\n",
    "\n",
    "* A canonical microphysics process consits of 4 flow variables - temperature, water vapor, cloud water (liquid), and precipitation/rain (liquid).\n",
    "    - The [Kessler scheme](https://doi-org.ornl.idm.oclc.org/10.1016/0169-8095(94)00090-Z) is a canonical scheme used to understand the roles of cloud conversion, accretion, evaporation, and entrainment in shaping the distribution of water vapor, cloud, and precipitation.\n",
    "    - It is an idealized microphysics process without considering the ice phase.\n",
    "    - Many available schemes have followed the Kessler scheme.\n",
    "\n",
    "![microphysics](images/microphysics_Kessler.png)\n",
    "\n",
    "* **Objective**: Emulate the evolution of microphysics of a cell from the information from its neighboring cells in a [supercell](https://en.wikipedia.org/wiki/Supercell) test case. The [Kessler scheme](https://doi-org.ornl.idm.oclc.org/10.1016/0169-8095(94)00090-Z) is used for the actual emulation.\n",
    "\n",
    "![microphysics](images/microphysics_ML.png)\n",
    "\n",
    "* **Input data**: Microphysics of 1D cell stencil ($3 \\times 1$) for a given cell\n",
    "    - Size of a single input to NN model: $[N_{\\text{micro}} \\times N_{\\text{coarse stencil cells} }] = [4 \\times 3]$ for 2D/3D simulation\n",
    "* **Output data**: Microphysics of given cell after emmulation (at next time step)\n",
    "    - Size of corresponding output from NN model: $[N_{\\text{micro}}] = [4]$ for 2D/3D simulation\n",
    "* **Training data size**:\n",
    "    - Input:  $12 \\times N_{\\text{train}}$\n",
    "    - Output: $4  \\times N_{\\text{train}}$\n",
    "\n",
    "* **Data generation**:\n",
    "    - Data will be downloaded.\n",
    "    - If the user would like to change the amount of data, see the notebook [1_miniWeatherML_supercell_dataAcqu.ipynb](1_miniWeatherML_supercell_dataAcqu.ipynb)\n",
    "\n",
    "**By MRN and MGM ORNL**"
   ]
  },
  {
   "cell_type": "markdown",
   "metadata": {},
   "source": [
    "# Import libraries"
   ]
  },
  {
   "cell_type": "code",
   "execution_count": 6,
   "metadata": {
    "id": "nUlXKlvO2jsr"
   },
   "outputs": [],
   "source": [
    "import numpy as np\n",
    "from sklearn.metrics import r2_score\n",
    "\n",
    "import os\n",
    "os.environ['TF_CPP_MIN_LOG_LEVEL'] = '1'\n",
    "import tensorflow\n",
    "import tensorflow.keras\n",
    "from tensorflow.keras.models import Sequential\n",
    "from tensorflow.keras.layers import Dense, Activation, LeakyReLU\n",
    "from tensorflow.keras.optimizers import Nadam, SGD\n",
    "\n",
    "import matplotlib.pyplot as plt\n",
    "tensorflow.compat.v1.disable_eager_execution()"
   ]
  },
  {
   "cell_type": "markdown",
   "metadata": {
    "id": "izUMD7kMGOZl"
   },
   "source": [
    "# Read in data, scale, and split\n",
    "The input and output training data is pre-shuffled.\n",
    "* Read it in\n",
    "* Generate min-max scaling numbers for each variable for input and output separately\n",
    "* Scale inputs and outputs to $x \\in [0,1]$\n",
    "* Split it into training and testing datasets"
   ]
  },
  {
   "cell_type": "code",
   "execution_count": 2,
   "metadata": {
    "colab": {
     "base_uri": "https://localhost:8080/"
    },
    "id": "-3HoUhuE2f0Z",
    "outputId": "534d2295-47d2-49e4-ac84-687c0d06a499"
   },
   "outputs": [
    {
     "name": "stdout",
     "output_type": "stream",
     "text": [
      "Downloading data from:\n",
      " https://www.dropbox.com/s/6rh5at6lic377ax/supercell_kessler_data.npz?dl=0...\n",
      "--2022-07-24 14:27:35--  https://www.dropbox.com/s/6rh5at6lic377ax/supercell_kessler_data.npz?dl=0\n",
      "Resolving www.dropbox.com (www.dropbox.com)... 162.125.9.18, 2620:100:601f:18::a27d:912\n",
      "Connecting to www.dropbox.com (www.dropbox.com)|162.125.9.18|:443... connected.\n",
      "HTTP request sent, awaiting response... 301 Moved Permanently\n",
      "Location: /s/raw/6rh5at6lic377ax/supercell_kessler_data.npz [following]\n",
      "--2022-07-24 14:27:35--  https://www.dropbox.com/s/raw/6rh5at6lic377ax/supercell_kessler_data.npz\n",
      "Reusing existing connection to www.dropbox.com:443.\n",
      "HTTP request sent, awaiting response... 302 Found\n",
      "Location: https://ucce5086684b0a572777049f8b2b.dl.dropboxusercontent.com/cd/0/inline/BpudTAMoiT8a1ZeBX5-IaocnmhXh_sSHSnA9AZxSqB8S1aJk5EMCfmXbZoKLvFrLQvDp3cbrc9XDcNL72q5gqtgXJXlXiTDdKQUyH3owCrqusgsj8eUljmW-g1qb7sswiWrBcQ_lOQx7kLffgrdQV9btK_GysWOsAhBAD268YBPpzg/file# [following]\n",
      "--2022-07-24 14:27:36--  https://ucce5086684b0a572777049f8b2b.dl.dropboxusercontent.com/cd/0/inline/BpudTAMoiT8a1ZeBX5-IaocnmhXh_sSHSnA9AZxSqB8S1aJk5EMCfmXbZoKLvFrLQvDp3cbrc9XDcNL72q5gqtgXJXlXiTDdKQUyH3owCrqusgsj8eUljmW-g1qb7sswiWrBcQ_lOQx7kLffgrdQV9btK_GysWOsAhBAD268YBPpzg/file\n",
      "Resolving ucce5086684b0a572777049f8b2b.dl.dropboxusercontent.com (ucce5086684b0a572777049f8b2b.dl.dropboxusercontent.com)... 162.125.9.15, 2620:100:601f:15::a27d:90f\n",
      "Connecting to ucce5086684b0a572777049f8b2b.dl.dropboxusercontent.com (ucce5086684b0a572777049f8b2b.dl.dropboxusercontent.com)|162.125.9.15|:443... connected.\n",
      "HTTP request sent, awaiting response... 302 Found\n",
      "Location: /cd/0/inline2/Bps4jRxnsJz8XxOtG6eadyca3hYSC_Xm8olumJ5dBxluk9E7Ic4NR1tE0NxSiazK60RVLUiX6ypMwS7khEVWPLyAeFQQ8jP1wL6jU8oUOJHnZVCxW15-RBvNoNSPbGqok94aZRIHA3v1ISl1QQ1occBAQp0XG5TTuVVCqh2D7285ny5A2f-brs42qcje5RkL3qnINwFRZnuchLPcSqFTmPzolo0wuLPb8HA9qvpwQ8SxmF2VAEtaZAKIz7ykBoawqsKDcZRLdBkIqxC4Ls2DvmcyKBmTTJjNISAAj90DKnVI8BedFZqFJG6Pgu7jOcWKE3uCeNQWzTvDDkvYcqPoZsAgMXlVnBpBvRFT3-DV2HbcJ5-RDwDMfMAySYWpkGA3Ho1GHmnX6jlD69x2AEOxLYppLGJN6kxeEErmZ0j0w_l3lg/file [following]\n",
      "--2022-07-24 14:27:36--  https://ucce5086684b0a572777049f8b2b.dl.dropboxusercontent.com/cd/0/inline2/Bps4jRxnsJz8XxOtG6eadyca3hYSC_Xm8olumJ5dBxluk9E7Ic4NR1tE0NxSiazK60RVLUiX6ypMwS7khEVWPLyAeFQQ8jP1wL6jU8oUOJHnZVCxW15-RBvNoNSPbGqok94aZRIHA3v1ISl1QQ1occBAQp0XG5TTuVVCqh2D7285ny5A2f-brs42qcje5RkL3qnINwFRZnuchLPcSqFTmPzolo0wuLPb8HA9qvpwQ8SxmF2VAEtaZAKIz7ykBoawqsKDcZRLdBkIqxC4Ls2DvmcyKBmTTJjNISAAj90DKnVI8BedFZqFJG6Pgu7jOcWKE3uCeNQWzTvDDkvYcqPoZsAgMXlVnBpBvRFT3-DV2HbcJ5-RDwDMfMAySYWpkGA3Ho1GHmnX6jlD69x2AEOxLYppLGJN6kxeEErmZ0j0w_l3lg/file\n",
      "Reusing existing connection to ucce5086684b0a572777049f8b2b.dl.dropboxusercontent.com:443.\n",
      "HTTP request sent, awaiting response... 200 OK\n",
      "Length: 510659284 (487M) [application/octet-stream]\n",
      "Saving to: ‘supercell_kessler_data.npz’\n",
      "\n",
      "supercell_kessler_d 100%[===================>] 487.00M  68.7MB/s    in 7.4s    \n",
      "\n",
      "2022-07-24 14:27:44 (65.9 MB/s) - ‘supercell_kessler_data.npz’ saved [510659284/510659284]\n",
      "\n",
      "Getting shapes\n",
      "Input shape = (9118906, 5)\n",
      "Output shape = (9118906, 4)\n",
      "Total number of data points = 9118906\n",
      "Scaling the input and output data and saving the scaling parameters\n",
      "Splitting the dataset into training and testing portions\n"
     ]
    }
   ],
   "source": [
    "path = f'supercell_kessler_data.npz'\n",
    "data_link = \"https://www.dropbox.com/s/6rh5at6lic377ax/supercell_kessler_data.npz?dl=0\"\n",
    "\n",
    "# Download the data if necessary\n",
    "if ( not os.path.isfile(path) ):\n",
    "    print(f\"Downloading data from:\\n {data_link}...\")\n",
    "    !wget {data_link} -O {path}\n",
    "\n",
    "# Read pre-shuffled inputs and outputs\n",
    "npzfile = np.load(path)\n",
    "input_from_file  = npzfile['input_from_file']\n",
    "output_from_file = npzfile['output_from_file']\n",
    "\n",
    "# Total number of sampes in the file\n",
    "total_samples = input_from_file.shape[0]\n",
    "\n",
    "# Number of samples I want to use for training in this notebook\n",
    "num_samples = total_samples\n",
    "\n",
    "#Get dimension sizes\n",
    "num_vars_in  = input_from_file .shape[1]\n",
    "num_vars_out = output_from_file.shape[1]\n",
    "num_stencil  = input_from_file .shape[2]\n",
    "\n",
    "# This is a single-cell (non-stencil) Neural Network (NN) modeling approach\n",
    "# The zeroth stencil index is the cell being predicted\n",
    "# Load inputs and outputs from file\n",
    "input  = np.copy(input_from_file [:num_samples,:,0])\n",
    "output = np.copy(output_from_file[:num_samples,:  ])\n",
    "\n",
    "# Get dimensions sizes\n",
    "print('Getting shapes')\n",
    "print(f'Input shape = {input.shape}')\n",
    "print(f'Output shape = {output.shape}')\n",
    "print(f'Total number of data points = {num_samples}')\n",
    "\n",
    "# Split the dataset into testing and training portions\n",
    "test_split = 0.2   # 20% of the data will never be trained on (for testing)\n",
    "num_train_samples = int((1-test_split)*num_samples)\n",
    "num_test_samples  = num_samples-num_train_samples\n",
    "\n",
    "print('Scaling the input and output data and saving the scaling parameters')\n",
    "\n",
    "sclrArrayIn  = np.ndarray(shape=[num_vars_in ,2],dtype=np.single)\n",
    "sclrArrayOut = np.ndarray(shape=[num_vars_out,2],dtype=np.single)\n",
    "\n",
    "for ivar in range(num_vars_in) :\n",
    "  sclrArrayIn [ivar,0] = np.amin(input [:num_train_samples,ivar])\n",
    "  sclrArrayIn [ivar,1] = np.amax(input [:num_train_samples,ivar])\n",
    "for ivar in range(num_vars_out) :\n",
    "  sclrArrayOut[ivar,0] = np.amin(output[:num_train_samples,ivar])\n",
    "  sclrArrayOut[ivar,1] = np.amax(output[:num_train_samples,ivar])\n",
    "\n",
    "np.savetxt('supercell_kessler_stencil_input_scaling.txt' , sclrArrayIn , fmt=\"%s\")\n",
    "np.savetxt('supercell_kessler_stencil_output_scaling.txt', sclrArrayOut, fmt=\"%s\")\n",
    "\n",
    "for ivar in range(num_vars_in) :\n",
    "  input [:,ivar] = (input [:,ivar] - sclrArrayIn [ivar,0]) / (sclrArrayIn [ivar,1] - sclrArrayIn [ivar,0])\n",
    "for ivar in range(num_vars_out) :\n",
    "  output[:,ivar] = (output[:,ivar] - sclrArrayOut[ivar,0]) / (sclrArrayOut[ivar,1] - sclrArrayOut[ivar,0])\n",
    "\n",
    "print('Splitting the dataset into training and testing portions')\n",
    "\n",
    "# Training data\n",
    "input_train  = input [:num_train_samples, :]\n",
    "output_train = output[:num_train_samples, :]\n",
    "# Testing data\n",
    "input_test   = input [num_train_samples:, :]\n",
    "output_test  = output[num_train_samples:, :]\n"
   ]
  },
  {
   "cell_type": "markdown",
   "metadata": {
    "id": "5bPrvSfPG_34"
   },
   "source": [
    "# Create and train Neural Network"
   ]
  },
  {
   "cell_type": "code",
   "execution_count": 3,
   "metadata": {
    "colab": {
     "base_uri": "https://localhost:8080/"
    },
    "id": "blPgoWdfDzhr",
    "outputId": "dcac17b5-cf2e-4dc5-a5c8-598c1f263a5e"
   },
   "outputs": [
    {
     "name": "stdout",
     "output_type": "stream",
     "text": [
      "Model: \"sequential\"\n",
      "_________________________________________________________________\n",
      "Layer (type)                 Output Shape              Param #   \n",
      "=================================================================\n",
      "dense (Dense)                (None, 10)                60        \n",
      "_________________________________________________________________\n",
      "leaky_re_lu (LeakyReLU)      (None, 10)                0         \n",
      "_________________________________________________________________\n",
      "dense_1 (Dense)              (None, 4)                 44        \n",
      "=================================================================\n",
      "Total params: 104\n",
      "Trainable params: 104\n",
      "Non-trainable params: 0\n",
      "_________________________________________________________________\n",
      "None\n",
      "Train on 5836099 samples, validate on 1459025 samples\n",
      "WARNING:tensorflow:OMP_NUM_THREADS is no longer used by the default Keras config. To configure the number of threads, use tf.config.threading APIs.\n",
      "Epoch 1/10\n",
      "5829632/5836099 [============================>.] - ETA: 0s - loss: 0.0017 - mean_absolute_error: 0.0111"
     ]
    },
    {
     "name": "stderr",
     "output_type": "stream",
     "text": [
      "/opt/conda/lib/python3.8/site-packages/tensorflow/python/keras/engine/training.py:2325: UserWarning: `Model.state_updates` will be removed in a future version. This property should not be used in TensorFlow 2.0, as `updates` are applied automatically.\n",
      "  warnings.warn('`Model.state_updates` will be removed in a future version. '\n"
     ]
    },
    {
     "name": "stdout",
     "output_type": "stream",
     "text": [
      "5836099/5836099 [==============================] - 9s 2us/sample - loss: 0.0017 - mean_absolute_error: 0.0111 - val_loss: 3.0872e-07 - val_mean_absolute_error: 4.0536e-04\n",
      "Epoch 2/10\n",
      "5836099/5836099 [==============================] - 9s 2us/sample - loss: 4.7442e-07 - mean_absolute_error: 4.9816e-04 - val_loss: 2.2656e-07 - val_mean_absolute_error: 3.6041e-04\n",
      "Epoch 3/10\n",
      "5836099/5836099 [==============================] - 9s 2us/sample - loss: 3.1196e-07 - mean_absolute_error: 4.0856e-04 - val_loss: 5.4496e-07 - val_mean_absolute_error: 6.0104e-04\n",
      "Epoch 4/10\n",
      "5836099/5836099 [==============================] - 9s 2us/sample - loss: 2.4256e-07 - mean_absolute_error: 3.6211e-04 - val_loss: 1.1531e-07 - val_mean_absolute_error: 2.3272e-04\n",
      "Epoch 5/10\n",
      "5836099/5836099 [==============================] - 9s 2us/sample - loss: 2.1820e-07 - mean_absolute_error: 3.3104e-04 - val_loss: 4.3069e-08 - val_mean_absolute_error: 1.2047e-04\n",
      "Epoch 6/10\n",
      "5836099/5836099 [==============================] - 10s 2us/sample - loss: 2.0814e-07 - mean_absolute_error: 3.2913e-04 - val_loss: 1.1425e-07 - val_mean_absolute_error: 2.6763e-04\n",
      "Epoch 7/10\n",
      "5836099/5836099 [==============================] - 9s 2us/sample - loss: 2.0313e-07 - mean_absolute_error: 3.3133e-04 - val_loss: 2.4106e-07 - val_mean_absolute_error: 3.4254e-04\n",
      "Epoch 8/10\n",
      "5836099/5836099 [==============================] - 10s 2us/sample - loss: 2.0014e-07 - mean_absolute_error: 3.1996e-04 - val_loss: 3.2728e-07 - val_mean_absolute_error: 4.4373e-04\n",
      "Epoch 9/10\n",
      "5836099/5836099 [==============================] - 9s 2us/sample - loss: 1.9957e-07 - mean_absolute_error: 3.1597e-04 - val_loss: 2.0861e-08 - val_mean_absolute_error: 6.8011e-05\n",
      "Epoch 10/10\n",
      "5836099/5836099 [==============================] - 9s 2us/sample - loss: 1.9729e-07 - mean_absolute_error: 3.2562e-04 - val_loss: 2.5806e-07 - val_mean_absolute_error: 4.4197e-04\n"
     ]
    }
   ],
   "source": [
    "# Create the Keras Neural Network\n",
    "model = Sequential()\n",
    "model.add( Dense(10,input_dim=num_vars_in,kernel_initializer=\"RandomUniform\") )\n",
    "model.add( LeakyReLU(alpha=0.1) )\n",
    "model.add( Dense(num_vars_out,kernel_initializer=\"RandomUniform\") )\n",
    "model.compile(loss='mse', optimizer=Nadam(), metrics=['mean_absolute_error'])\n",
    "print(model.summary())\n",
    "\n",
    "history = model.fit(input_train, output_train, epochs=10, batch_size=1024, validation_split=0.2, verbose=1)"
   ]
  },
  {
   "cell_type": "markdown",
   "metadata": {},
   "source": [
    "## Loss during training"
   ]
  },
  {
   "cell_type": "code",
   "execution_count": 22,
   "metadata": {},
   "outputs": [
    {
     "data": {
      "image/png": "[encoded data removed]",
      "text/plain": [
       "<Figure size 720x360 with 1 Axes>"
      ]
     },
     "metadata": {},
     "output_type": "display_data"
    }
   ],
   "source": [
    "plt.rcParams.update({'font.size': 15})\n",
    "fig, axs = plt.subplots(1,figsize=(10,5),facecolor=\"1\")\n",
    "axs.set_title('Learning curve: Loss / Mean Squared Error')\n",
    "axs.plot(history.history['loss'], label='training')\n",
    "axs.plot(history.history['val_loss'], label='validation', alpha=0.5)\n",
    "axs.set_xlabel('Epoch'); axs.set_ylabel(f'Loss ($mse$)')\n",
    "axs.set_yscale('log')\n",
    "axs.legend(frameon=False);"
   ]
  },
  {
   "cell_type": "markdown",
   "metadata": {
    "id": "u5157DECHRei"
   },
   "source": [
    "# Inference trained NN on test data"
   ]
  },
  {
   "cell_type": "code",
   "execution_count": 23,
   "metadata": {
    "colab": {
     "base_uri": "https://localhost:8080/"
    },
    "id": "LzaOEkMLGVA6",
    "outputId": "7e9d6f07-1f81-413d-8c29-3bef06b6c03e"
   },
   "outputs": [],
   "source": [
    "predict_test = model.predict( input_test )"
   ]
  },
  {
   "cell_type": "markdown",
   "metadata": {
    "id": "jQTvvxJUHXUv"
   },
   "source": [
    "# Compare test predictions to test output"
   ]
  },
  {
   "cell_type": "code",
   "execution_count": 24,
   "metadata": {
    "colab": {
     "base_uri": "https://localhost:8080/",
     "height": 404
    },
    "id": "CbSAX3V9HR2a",
    "outputId": "daf5b7e0-ed84-4dd6-9235-38947809b0d4"
   },
   "outputs": [
    {
     "data": {
      "image/png": "[encoded data removed]",
      "text/plain": [
       "<Figure size 1080x432 with 4 Axes>"
      ]
     },
     "metadata": {},
     "output_type": "display_data"
    }
   ],
   "source": [
    "titlestr = np.array(['temperature','water vapor','cloud liquid','precipitation'])\n",
    "\n",
    "fig, axs = plt.subplots(2,2,figsize=(15,6),sharex=True,facecolor=\"1\")\n",
    "axs = axs.ravel()\n",
    "for i in range(4):\n",
    "    axs[i].scatter(output_test[:,i],predict_test[:,i],s=20)\n",
    "    axs[i].plot(np.linspace(0,1.2),np.linspace(0,1.2),'--',color='k')\n",
    "    r2 = r2_score(output_test[:,i],predict_test[:,i])\n",
    "    axs[i].set_title(f'{titlestr[i]}, $R^2$ = {r2:0.4}')\n",
    "axs[2].set_xlabel(r'True'); axs[3].set_xlabel(r'True');\n",
    "axs[0].set_ylabel(r'Predicted'); axs[2].set_ylabel(r'Predicted');"
   ]
  },
  {
   "cell_type": "code",
   "execution_count": 25,
   "metadata": {
    "colab": {
     "base_uri": "https://localhost:8080/"
    },
    "id": "BZm7tpy6TRw0",
    "outputId": "7185a04c-21d7-48f6-da8d-68d885d133ae"
   },
   "outputs": [
    {
     "name": "stdout",
     "output_type": "stream",
     "text": [
      "Variables:\t\t\t['temperature' 'water vapor' 'cloud liquid' 'precipitation']\n",
      "Maximum relative test errors:\t [0.00665146 0.00314902 0.00586239 0.00617751]\n",
      "Mean relative test errors:\t [0.00070396 0.00548562 0.02560766 0.01817985]\n",
      "Mean relative test bias:\t [-0.00070294 -0.00548562  0.02480118  0.01795856]\n"
     ]
    }
   ],
   "source": [
    "print(f'Variables:\\t\\t\\t{titlestr}')\n",
    "print( 'Maximum relative test errors:\\t' , np.amax(np.abs(output_test-predict_test),axis=0) / np.amax(np.abs(output_test),axis=0) )\n",
    "print( 'Mean relative test errors:\\t'    , np.mean(np.abs(output_test-predict_test),axis=0) / np.mean(np.abs(output_test),axis=0) )\n",
    "print( 'Mean relative test bias:\\t'      , np.mean(output_test-predict_test,axis=0) / np.mean(np.abs(output_test),axis=0) )"
   ]
  },
  {
   "cell_type": "markdown",
   "metadata": {
    "id": "HCM-ER9MHc6C"
   },
   "source": [
    "# Save the model weights"
   ]
  },
  {
   "cell_type": "code",
   "execution_count": 26,
   "metadata": {
    "colab": {
     "base_uri": "https://localhost:8080/"
    },
    "id": "EAf7QyuRQ0_d",
    "outputId": "fd6faa1a-c025-463a-9578-d8f7afafb288"
   },
   "outputs": [
    {
     "name": "stdout",
     "output_type": "stream",
     "text": [
      "Saved model to disk\n"
     ]
    }
   ],
   "source": [
    "# For inference: Serialize model to JSON\n",
    "model_json = model.to_json()\n",
    "with open('supercell_kessler_singlecell_model_weights.json', 'w') as json_file:\n",
    "    json_file.write(model_json)\n",
    "# serialize weights to HDF5\n",
    "model.save_weights('supercell_kessler_singlecell_model_weights.h5')\n",
    "print('Saved model to disk')"
   ]
  },
  {
   "cell_type": "markdown",
   "metadata": {
    "id": "hgBaUBPeHfCP"
   },
   "source": [
    "# Create integer array for active samples: binary 0 or 1"
   ]
  },
  {
   "cell_type": "code",
   "execution_count": 27,
   "metadata": {
    "colab": {
     "base_uri": "https://localhost:8080/"
    },
    "id": "owzIAax31jH8",
    "outputId": "b47a4c87-587e-4ed8-b3e5-43d8cfe3337a"
   },
   "outputs": [
    {
     "name": "stdout",
     "output_type": "stream",
     "text": [
      "Percentage of total samples that are active:  51.812487155805755 %\n",
      "Percentage of training samples that are active:  51.8007507480339 %\n",
      "Percentage of test samples that are active:  51.85943276115238 %\n"
     ]
    }
   ],
   "source": [
    "tol = 0.000000\n",
    "active = np.where((np.abs(output_from_file[:,0] - input_from_file[:,0,0]) > 0) | \\\n",
    "                  (np.abs(output_from_file[:,1] - input_from_file[:,2,0]) > 0) | \\\n",
    "                  (np.abs(output_from_file[:,2] - input_from_file[:,3,0]) > 0) | \\\n",
    "                  (np.abs(output_from_file[:,3] - input_from_file[:,4,0]) > 0) , True , False )\n",
    "active_train = np.copy(active[:num_train_samples])\n",
    "active_test  = np.copy(active[num_train_samples:])\n",
    "print( \"Percentage of total samples that are active: \" , np.sum(active) / num_samples*100 , \"%\" )\n",
    "print( \"Percentage of training samples that are active: \" , np.sum(active_train) / num_train_samples*100 , \"%\" )\n",
    "print( \"Percentage of test samples that are active: \" , np.sum(active_test) / num_test_samples*100 , \"%\" )"
   ]
  },
  {
   "cell_type": "markdown",
   "metadata": {
    "id": "UTSUgYlTSThW"
   },
   "source": [
    "# Train a binary classification Neural Network to determine if a cell is active"
   ]
  },
  {
   "cell_type": "code",
   "execution_count": 28,
   "metadata": {
    "colab": {
     "base_uri": "https://localhost:8080/"
    },
    "id": "0dSgxJKD4HGn",
    "outputId": "76475deb-1405-4959-c12c-20cfdd393fae"
   },
   "outputs": [
    {
     "name": "stdout",
     "output_type": "stream",
     "text": [
      "Model: \"sequential_1\"\n",
      "_________________________________________________________________\n",
      "Layer (type)                 Output Shape              Param #   \n",
      "=================================================================\n",
      "dense_2 (Dense)              (None, 10)                60        \n",
      "_________________________________________________________________\n",
      "leaky_re_lu_1 (LeakyReLU)    (None, 10)                0         \n",
      "_________________________________________________________________\n",
      "dense_3 (Dense)              (None, 1)                 11        \n",
      "=================================================================\n",
      "Total params: 71\n",
      "Trainable params: 71\n",
      "Non-trainable params: 0\n",
      "_________________________________________________________________\n",
      "None\n",
      "Train on 5836099 samples, validate on 1459025 samples\n",
      "Epoch 1/10\n",
      "5835776/5836099 [============================>.] - ETA: 0s - loss: 0.4387 - accuracy: 0.7687"
     ]
    },
    {
     "name": "stderr",
     "output_type": "stream",
     "text": [
      "/opt/conda/lib/python3.8/site-packages/tensorflow/python/keras/engine/training.py:2325: UserWarning: `Model.state_updates` will be removed in a future version. This property should not be used in TensorFlow 2.0, as `updates` are applied automatically.\n",
      "  warnings.warn('`Model.state_updates` will be removed in a future version. '\n"
     ]
    },
    {
     "name": "stdout",
     "output_type": "stream",
     "text": [
      "5836099/5836099 [==============================] - 11s 2us/sample - loss: 0.4387 - accuracy: 0.7687 - val_loss: 0.3786 - val_accuracy: 0.7934\n",
      "Epoch 2/10\n",
      "5836099/5836099 [==============================] - 10s 2us/sample - loss: 0.3617 - accuracy: 0.8026 - val_loss: 0.3472 - val_accuracy: 0.8107\n",
      "Epoch 3/10\n",
      "5836099/5836099 [==============================] - 10s 2us/sample - loss: 0.3397 - accuracy: 0.8161 - val_loss: 0.3320 - val_accuracy: 0.8229\n",
      "Epoch 4/10\n",
      "5836099/5836099 [==============================] - 10s 2us/sample - loss: 0.3280 - accuracy: 0.8287 - val_loss: 0.3229 - val_accuracy: 0.8319\n",
      "Epoch 5/10\n",
      "5836099/5836099 [==============================] - 10s 2us/sample - loss: 0.3199 - accuracy: 0.8382 - val_loss: 0.3152 - val_accuracy: 0.8435\n",
      "Epoch 6/10\n",
      "5836099/5836099 [==============================] - 10s 2us/sample - loss: 0.3110 - accuracy: 0.8492 - val_loss: 0.3060 - val_accuracy: 0.8540\n",
      "Epoch 7/10\n",
      "5836099/5836099 [==============================] - 10s 2us/sample - loss: 0.3034 - accuracy: 0.8581 - val_loss: 0.2997 - val_accuracy: 0.8571\n",
      "Epoch 8/10\n",
      "5836099/5836099 [==============================] - 10s 2us/sample - loss: 0.2977 - accuracy: 0.8619 - val_loss: 0.2946 - val_accuracy: 0.8664\n",
      "Epoch 9/10\n",
      "5836099/5836099 [==============================] - 10s 2us/sample - loss: 0.2929 - accuracy: 0.8650 - val_loss: 0.2900 - val_accuracy: 0.8682\n",
      "Epoch 10/10\n",
      "5836099/5836099 [==============================] - 10s 2us/sample - loss: 0.2890 - accuracy: 0.8665 - val_loss: 0.2864 - val_accuracy: 0.8675\n"
     ]
    }
   ],
   "source": [
    "# Create the Keras Neural Network\n",
    "model = Sequential()\n",
    "model.add( Dense(10,input_dim=num_vars_in,kernel_initializer=\"RandomUniform\") )\n",
    "model.add( LeakyReLU(alpha=0.1) )\n",
    "model.add( Dense(1,kernel_initializer=\"RandomUniform\",activation=\"sigmoid\") )\n",
    "model.compile(optimizer=Nadam(), loss='binary_crossentropy',metrics =['accuracy'])\n",
    "print(model.summary())\n",
    "\n",
    "history = model.fit(input_train, active_train, epochs=10, batch_size=1024, validation_split=0.2, verbose=1)\n"
   ]
  }
 ],
 "metadata": {
  "colab": {
   "name": "kessler_singlecell_train.ipynb",
   "provenance": []
  },
  "kernelspec": {
   "display_name": "OLCF-CUDA11 (ipykernel)",
   "language": "python",
   "name": "python3"
  },
  "language_info": {
   "codemirror_mode": {
    "name": "ipython",
    "version": 3
   },
   "file_extension": ".py",
   "mimetype": "text/x-python",
   "name": "python",
   "nbconvert_exporter": "python",
   "pygments_lexer": "ipython3",
   "version": "3.8.10"
  }
 },
 "nbformat": 4,
 "nbformat_minor": 4
}
